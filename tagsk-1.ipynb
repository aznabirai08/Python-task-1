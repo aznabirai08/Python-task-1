{
 "cells": [
  {
   "cell_type": "raw",
   "id": "bd1558dd",
   "metadata": {},
   "source": [
    "integer var=x=10\n",
    "y=12"
   ]
  },
  {
   "cell_type": "code",
   "execution_count": 4,
   "id": "dfd0b87a",
   "metadata": {},
   "outputs": [
    {
     "name": "stdout",
     "output_type": "stream",
     "text": [
      "22\n",
      "-2\n",
      "120\n",
      "0.8333333333333334\n"
     ]
    }
   ],
   "source": [
    "x=10\n",
    "y=12\n",
    "add=(x+y)\n",
    "sub=(x-y)\n",
    "mul=(x*y)\n",
    "divide=(x/y)\n",
    "print(add)\n",
    "print(sub)\n",
    "print(mul)\n",
    "print(divide)"
   ]
  },
  {
   "cell_type": "code",
   "execution_count": 5,
   "id": "6af16fb8",
   "metadata": {},
   "outputs": [
    {
     "data": {
      "text/plain": [
       "9"
      ]
     },
     "execution_count": 5,
     "metadata": {},
     "output_type": "execute_result"
    }
   ],
   "source": [
    "len(\"aznabirai\")"
   ]
  },
  {
   "cell_type": "code",
   "execution_count": 7,
   "id": "5c4bd7c0",
   "metadata": {},
   "outputs": [
    {
     "name": "stdout",
     "output_type": "stream",
     "text": [
      "200\n"
     ]
    }
   ],
   "source": [
    "width=10\n",
    "height=20\n",
    "area=width*height\n",
    "print(area)"
   ]
  },
  {
   "cell_type": "code",
   "execution_count": null,
   "id": "0462a9c4",
   "metadata": {},
   "outputs": [],
   "source": []
  }
 ],
 "metadata": {
  "kernelspec": {
   "display_name": "Python 3 (ipykernel)",
   "language": "python",
   "name": "python3"
  },
  "language_info": {
   "codemirror_mode": {
    "name": "ipython",
    "version": 3
   },
   "file_extension": ".py",
   "mimetype": "text/x-python",
   "name": "python",
   "nbconvert_exporter": "python",
   "pygments_lexer": "ipython3",
   "version": "3.10.9"
  }
 },
 "nbformat": 4,
 "nbformat_minor": 5
}
